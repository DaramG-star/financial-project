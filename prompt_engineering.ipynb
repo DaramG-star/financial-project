{
  "cells": [
    {
      "cell_type": "markdown",
      "metadata": {
        "id": "ibxAF_lFTSPR"
      },
      "source": [
        "# 프롬프트 커스터마이징을 통한 응답 형식 제한"
      ]
    },
    {
      "cell_type": "markdown",
      "metadata": {
        "id": "4Ooype5A2fM6"
      },
      "source": [
        "## 필요 패키지 및 환경변수 설정"
      ]
    },
    {
      "cell_type": "code",
      "execution_count": null,
      "metadata": {
        "id": "8x8lQaTDs9Sv"
      },
      "outputs": [],
      "source": [
        "OPENAI_API_KEY= \"\""
      ]
    },
    {
      "cell_type": "markdown",
      "metadata": {
        "id": "QSdqFCxn2mmH"
      },
      "source": [
        "## OpenAI 예시 프롬프트"
      ]
    },
    {
      "cell_type": "code",
      "execution_count": 6,
      "metadata": {
        "id": "9Hw8s8LQtCc-"
      },
      "outputs": [],
      "source": [
        "from openai import OpenAI\n",
        "client = OpenAI(api_key=OPENAI_API_KEY)"
      ]
    },
    {
      "cell_type": "code",
      "execution_count": 7,
      "metadata": {
        "id": "hSbqSI7BtIyY"
      },
      "outputs": [],
      "source": [
        "response = client.responses.create(\n",
        "  model=\"gpt-4o-mini\",\n",
        "  input=[\n",
        "    {\n",
        "      \"role\": \"system\",\n",
        "      \"content\": [\n",
        "        {\n",
        "          \"type\": \"input_text\",\n",
        "          \"text\": \"You will be provided with unstructured data, and your task is to parse it into CSV format.\"\n",
        "        }\n",
        "      ]\n",
        "    },\n",
        "    {\n",
        "      \"role\": \"user\",\n",
        "      \"content\": [\n",
        "        {\n",
        "          \"type\": \"input_text\",\n",
        "          \"text\": \"There are many fruits that were found on the recently discovered planet Goocrux. There are neoskizzles that grow there, which are purple and taste like candy. There are also loheckles, which are a grayish blue fruit and are very tart, a little bit like a lemon. Pounits are a bright green color and are more savory than sweet. There are also plenty of loopnovas which are a neon pink flavor and taste like cotton candy. Finally, there are fruits called glowls, which have a very sour and bitter taste which is acidic and caustic, and a pale orange tinge to them.\"\n",
        "        }\n",
        "      ]\n",
        "    }\n",
        "  ],\n",
        "  temperature=1,\n",
        "  max_output_tokens=256\n",
        ")"
      ]
    },
    {
      "cell_type": "code",
      "execution_count": 8,
      "metadata": {
        "id": "DZPCGo993YU7"
      },
      "outputs": [
        {
          "name": "stdout",
          "output_type": "stream",
          "text": [
            "Here's the parsed data in CSV format:\n",
            "\n",
            "```csv\n",
            "Fruit,Color,Taste\n",
            "Neoskizzles,Purple,Candy-like\n",
            "Loheckles,Grayish Blue,Tart (like lemon)\n",
            "Pounits,Bright Green,Savory\n",
            "Loopnovas,Neon Pink,Cotton Candy-like\n",
            "Glowls,Pale Orange,Sour and Bitter (acidic and caustic)\n",
            "```\n"
          ]
        }
      ],
      "source": [
        "# 결과 출력\n",
        "print(response.output_text)"
      ]
    },
    {
      "cell_type": "markdown",
      "metadata": {
        "id": "V3WMygB-2vQJ"
      },
      "source": [
        "## 프롬프트 커스터마이징 (CSV 파싱)"
      ]
    },
    {
      "cell_type": "code",
      "execution_count": 9,
      "metadata": {
        "id": "pmKH5C_juENT"
      },
      "outputs": [],
      "source": [
        "user_prompt = \"한국 사람들이 좋아하는 과일은 사과, 배, 귤, 포도, 수박, 참외, 딸기, 감, 복숭아 같은 것들이 있어요. 계절마다 선호하는 과일이 좀 다른데, 여름엔 수박이나 참외를 많이 먹고, 겨울엔 귤이 인기 많죠. 딸기는 봄철에 특히 많이 찾고, 가을엔 감이나 배를 많이 먹어요. 포도도 여름에서 가을 사이에 인기가 많고, 복숭아도 달콤하고 부드러워서 좋아하는 사람이 많아요. - 출처 : 00뉴스\""
      ]
    },
    {
      "cell_type": "code",
      "execution_count": 12,
      "metadata": {
        "id": "Pr36-XwfvPAw"
      },
      "outputs": [],
      "source": [
        "response = client.responses.create(\n",
        "  model=\"gpt-4o-mini\",\n",
        "  input=[\n",
        "    {\n",
        "      \"role\": \"system\",\n",
        "      \"content\": [\n",
        "        {\n",
        "          \"type\": \"input_text\",\n",
        "          \"text\": \"당신은 구조화 되지 않은 데이터를 CSV 형식으로 변환하는 AI입니다. 사용자가 과일에 대한 설명을 제공하면, 과일 이름만 CSV 형식으로 출력해주세요.\"\n",
        "        }\n",
        "      ]\n",
        "    },\n",
        "    {\n",
        "      \"role\": \"user\",\n",
        "      \"content\": [\n",
        "        {\n",
        "          \"type\": \"input_text\",\n",
        "          \"text\": user_prompt\n",
        "        }\n",
        "      ]\n",
        "    }\n",
        "  ],\n",
        "  temperature=1,\n",
        "  max_output_tokens=256\n",
        ")\n"
      ]
    },
    {
      "cell_type": "code",
      "execution_count": 13,
      "metadata": {
        "id": "wrCSq8fU3gkf"
      },
      "outputs": [
        {
          "name": "stdout",
          "output_type": "stream",
          "text": [
            "```\n",
            "사과\n",
            "배\n",
            "귤\n",
            "포도\n",
            "수박\n",
            "참외\n",
            "딸기\n",
            "감\n",
            "복숭아\n",
            "```\n"
          ]
        }
      ],
      "source": [
        "print(response.output_text)"
      ]
    },
    {
      "cell_type": "markdown",
      "metadata": {
        "id": "tPj6OFYG3EgD"
      },
      "source": [
        "## 프롬프트 커스터마이징 (XML 파싱)"
      ]
    },
    {
      "cell_type": "code",
      "execution_count": 14,
      "metadata": {
        "id": "zI_Kxxjl26pz"
      },
      "outputs": [],
      "source": [
        "response = client.responses.create(\n",
        "  model=\"gpt-4o-mini\",\n",
        "  input=[\n",
        "    {\n",
        "      \"role\": \"system\",\n",
        "      \"content\": [\n",
        "        {\n",
        "          \"type\": \"input_text\",\n",
        "          \"text\": \"당신은 구조화 되지 않은 데이터를 XML 형식으로 변환하는 AI입니다. 사용자가 과일에 대한 설명을 제공하면, 과일 이름만 XML 형식으로 출력해주세요.\"\n",
        "        }\n",
        "      ]\n",
        "    },\n",
        "    {\n",
        "      \"role\": \"user\",\n",
        "      \"content\": [\n",
        "        {\n",
        "          \"type\": \"input_text\",\n",
        "          \"text\": user_prompt\n",
        "        }\n",
        "      ]\n",
        "    }\n",
        "  ],\n",
        "  temperature=1,\n",
        "  max_output_tokens=256\n",
        ")\n"
      ]
    },
    {
      "cell_type": "code",
      "execution_count": 15,
      "metadata": {
        "id": "w5R_nDrT3lAn"
      },
      "outputs": [
        {
          "name": "stdout",
          "output_type": "stream",
          "text": [
            "```xml\n",
            "<fruits>\n",
            "    <fruit>사과</fruit>\n",
            "    <fruit>배</fruit>\n",
            "    <fruit>귤</fruit>\n",
            "    <fruit>포도</fruit>\n",
            "    <fruit>수박</fruit>\n",
            "    <fruit>참외</fruit>\n",
            "    <fruit>딸기</fruit>\n",
            "    <fruit>감</fruit>\n",
            "    <fruit>복숭아</fruit>\n",
            "</fruits>\n",
            "```\n"
          ]
        }
      ],
      "source": [
        "print(response.output_text)"
      ]
    },
    {
      "cell_type": "code",
      "execution_count": 16,
      "metadata": {
        "id": "AVC4lJhw3mHd"
      },
      "outputs": [
        {
          "name": "stdout",
          "output_type": "stream",
          "text": [
            "<class 'str'>\n"
          ]
        }
      ],
      "source": [
        "print(type(response.output_text))"
      ]
    },
    {
      "cell_type": "markdown",
      "metadata": {
        "id": "qAaqIut-2yjx"
      },
      "source": [
        "## 프롬프트 커스터마이징 (JSON 파싱)"
      ]
    },
    {
      "cell_type": "markdown",
      "metadata": {
        "id": "-374bZHk4Ivd"
      },
      "source": [
        "### 프롬프팅을 통한 JSON 스키마 설정\n"
      ]
    },
    {
      "cell_type": "code",
      "execution_count": 17,
      "metadata": {
        "id": "kV0tTk5hwPPz"
      },
      "outputs": [],
      "source": [
        "response = client.responses.create(\n",
        "  model=\"gpt-4o-mini\",\n",
        "  input=[\n",
        "    {\n",
        "      \"role\": \"system\",\n",
        "      \"content\": [\n",
        "        {\n",
        "          \"type\": \"input_text\",\n",
        "          \"text\": \"당신은 구조화 되지 않은 데이터를 JSON 형식으로 변환하는 AI입니다. 사용자가 과일에 대한 설명을 제공하면, 과일 이름만 JSON 형식으로 출력해주세요.\"\n",
        "        }\n",
        "      ]\n",
        "    },\n",
        "    {\n",
        "      \"role\": \"user\",\n",
        "      \"content\": [\n",
        "        {\n",
        "          \"type\": \"input_text\",\n",
        "          \"text\": user_prompt\n",
        "        }\n",
        "      ]\n",
        "    }\n",
        "  ],\n",
        "  temperature=1,\n",
        "  max_output_tokens=256\n",
        ")\n"
      ]
    },
    {
      "cell_type": "code",
      "execution_count": 19,
      "metadata": {
        "id": "o48yFBaF3qfZ"
      },
      "outputs": [
        {
          "name": "stdout",
          "output_type": "stream",
          "text": [
            "```json\n",
            "{\n",
            "  \"과일\": [\n",
            "    \"사과\",\n",
            "    \"배\",\n",
            "    \"귤\",\n",
            "    \"포도\",\n",
            "    \"수박\",\n",
            "    \"참외\",\n",
            "    \"딸기\",\n",
            "    \"감\",\n",
            "    \"복숭아\"\n",
            "  ]\n",
            "}\n",
            "```\n",
            "<class 'str'>\n"
          ]
        }
      ],
      "source": [
        "print(response.output_text)\n",
        "print(type(response.output_text))"
      ]
    },
    {
      "cell_type": "code",
      "execution_count": null,
      "metadata": {
        "id": "0YRHUGJ83yxn"
      },
      "outputs": [],
      "source": [
        "import json\n",
        "\n",
        "parsed_data = json.loads(response.output_text)"
      ]
    },
    {
      "cell_type": "code",
      "execution_count": 20,
      "metadata": {
        "id": "gOJ7U6MXcA1U"
      },
      "outputs": [],
      "source": [
        "# JSON 파싱 방법 1 – 프롬프트 엔지니어링 (프롬프트 수정)\n",
        "response = client.responses.create(\n",
        "  model=\"gpt-4o-mini\",\n",
        "  input=[\n",
        "    {\n",
        "      \"role\": \"system\",\n",
        "      \"content\": [\n",
        "        {\n",
        "          \"type\": \"input_text\",\n",
        "          \"text\": \"\"\"당신은 구조화 되지 않은 데이터를 JSON 형식으로 변환하는 AI입니다. \n",
        "          사용자가 과일에 대한 설명을 제공하면, 과일 이름만 JSON 형식으로 출력해주세요.\n",
        "          답변 예시 : \n",
        "\n",
        "          {\n",
        "            \"fruits\" : [\"과일 1\", \"과일 2\", ...]\n",
        "              }\n",
        "          절대로 JSON 형식 외에는 어떠한 텍스트도 추가하지 마시오. Markdown을 쓰지 마시오.\n",
        "          JSON 데이터로만 출력하시오. 답변은 반드시 '{'로 시작하여 '}'로 끝나야 합니다.\n",
        "          \"\"\"\n",
        "        }\n",
        "      ]\n",
        "    },\n",
        "    {\n",
        "      \"role\": \"user\",\n",
        "      \"content\": [\n",
        "        {\n",
        "          \"type\": \"input_text\",\n",
        "          \"text\": user_prompt\n",
        "        }\n",
        "      ]\n",
        "    }\n",
        "  ],\n",
        "  temperature=1,\n",
        "  max_output_tokens=256\n",
        ")"
      ]
    },
    {
      "cell_type": "code",
      "execution_count": 21,
      "metadata": {
        "id": "TvkRaCgC361X"
      },
      "outputs": [
        {
          "name": "stdout",
          "output_type": "stream",
          "text": [
            "{\n",
            "  \"fruits\": [\"사과\", \"배\", \"귤\", \"포도\", \"수박\", \"참외\", \"딸기\", \"감\", \"복숭아\"]\n",
            "}\n"
          ]
        }
      ],
      "source": [
        "print(response.output_text)"
      ]
    },
    {
      "cell_type": "code",
      "execution_count": 22,
      "metadata": {},
      "outputs": [
        {
          "name": "stdout",
          "output_type": "stream",
          "text": [
            "<class 'str'>\n"
          ]
        }
      ],
      "source": [
        "print(type(response.output_text))"
      ]
    },
    {
      "cell_type": "code",
      "execution_count": 25,
      "metadata": {
        "id": "NgTcQ8i737y7"
      },
      "outputs": [
        {
          "name": "stdout",
          "output_type": "stream",
          "text": [
            "{'fruits': ['사과', '배', '귤', '포도', '수박', '참외', '딸기', '감', '복숭아']}\n",
            "<class 'dict'>\n"
          ]
        }
      ],
      "source": [
        "# json.loads\n",
        "# JSON 형식의 문자열을 파이썬 객체로 변환\n",
        "# json => dict\n",
        "import json\n",
        "parsed_data = json.loads(response.output_text)\n",
        "print(parsed_data)\n",
        "print(type(parsed_data))"
      ]
    },
    {
      "cell_type": "code",
      "execution_count": 27,
      "metadata": {},
      "outputs": [
        {
          "name": "stdout",
          "output_type": "stream",
          "text": [
            "{\n",
            "    \"fruits\": [\n",
            "        \"사과\",\n",
            "        \"배\",\n",
            "        \"귤\",\n",
            "        \"포도\",\n",
            "        \"수박\",\n",
            "        \"참외\",\n",
            "        \"딸기\",\n",
            "        \"감\",\n",
            "        \"복숭아\"\n",
            "    ]\n",
            "}\n",
            "<class 'str'>\n"
          ]
        }
      ],
      "source": [
        "# json.dumps\n",
        "# 파이썬 객체를 JSON 형식의 문자열로 변환\n",
        "json_data = json.dumps(parsed_data, indent=4, ensure_ascii=False)\n",
        "print(json_data)\n",
        "print(type(json_data))"
      ]
    },
    {
      "cell_type": "markdown",
      "metadata": {
        "id": "XAIJins84tN3"
      },
      "source": [
        "###  text 입력 파라미터"
      ]
    },
    {
      "cell_type": "code",
      "execution_count": null,
      "metadata": {},
      "outputs": [],
      "source": [
        "response = client.responses.create(\n",
        "    model=\"gpt-4o-mini\",\n",
        "    input=[\n",
        "        {\n",
        "            \"role\": \"system\",\n",
        "            \"content\": [\n",
        "                {\n",
        "                    \"type\": \"input_text\",\n",
        "                    \"text\": (\n",
        "                        \"당신은 구조화 되지 않은 데이터를 JSON 형식으로 변환하는 AI입니다.\\n\"\n",
        "                        \"사용자가 과일에 대한 설명을 제공하면, 과일 이름만 JSON 형식으로 출력해주세요.\"\n",
        "                    )\n",
        "                }\n",
        "            ]\n",
        "        },\n",
        "        {\n",
        "            \"role\": \"user\",\n",
        "            \"content\": [\n",
        "                {\n",
        "                    \"type\": \"input_text\",\n",
        "                    \"text\": user_prompt\n",
        "                }\n",
        "            ]\n",
        "        }\n",
        "    ],\n",
        "    text={\n",
        "        \"format\": {\n",
        "            \"type\": \"json_object\"\n",
        "        }\n",
        "    },\n",
        "    temperature=1,\n",
        "    max_output_tokens=256\n",
        ")\n"
      ]
    },
    {
      "cell_type": "code",
      "execution_count": 32,
      "metadata": {},
      "outputs": [
        {
          "name": "stdout",
          "output_type": "stream",
          "text": [
            "{\n",
            "  \"과일\": [\n",
            "    \"사과\",\n",
            "    \"배\",\n",
            "    \"귤\",\n",
            "    \"포도\",\n",
            "    \"수박\",\n",
            "    \"참외\",\n",
            "    \"딸기\",\n",
            "    \"감\",\n",
            "    \"복숭아\"\n",
            "  ]\n",
            "}\n"
          ]
        }
      ],
      "source": [
        "print(response.output_text)"
      ]
    },
    {
      "cell_type": "code",
      "execution_count": 33,
      "metadata": {
        "id": "5FJuR-IHm265"
      },
      "outputs": [],
      "source": [
        "# 복잡한 구조의 JSON 파싱 요청\n",
        "response = client.responses.create(\n",
        "  model=\"gpt-4o-mini\",\n",
        "  input=[\n",
        "    {\n",
        "      \"role\": \"system\",\n",
        "      \"content\": [\n",
        "        {\n",
        "          \"type\": \"input_text\",\n",
        "          \"text\": \"당신은 구조화 되지 않은 데이터를 JSON 형식으로 변환하는 AI입니다. 사용자가 과일에 대한 설명을 제공하면, 과일 이름과 과일 수, 출처를 JSON 형식으로 추출하세요.\"\n",
        "        }\n",
        "      ]\n",
        "    },\n",
        "    {\n",
        "      \"role\": \"user\",\n",
        "      \"content\": [\n",
        "        {\n",
        "          \"type\": \"input_text\",\n",
        "          \"text\": user_prompt\n",
        "        }\n",
        "      ]\n",
        "    }\n",
        "  ],\n",
        "  text={\"format\": {\"type\": \"json_object\"}},\n",
        "  temperature=1,\n",
        "  max_output_tokens=256\n",
        ")"
      ]
    },
    {
      "cell_type": "code",
      "execution_count": 34,
      "metadata": {
        "id": "HHUD7SXv5F-W"
      },
      "outputs": [
        {
          "name": "stdout",
          "output_type": "stream",
          "text": [
            "{\n",
            "  \"과일\": [\n",
            "    {\n",
            "      \"이름\": \"사과\",\n",
            "      \"수\": 1,\n",
            "      \"출처\": \"00뉴스\"\n",
            "    },\n",
            "    {\n",
            "      \"이름\": \"배\",\n",
            "      \"수\": 1,\n",
            "      \"출처\": \"00뉴스\"\n",
            "    },\n",
            "    {\n",
            "      \"이름\": \"귤\",\n",
            "      \"수\": 1,\n",
            "      \"출처\": \"00뉴스\"\n",
            "    },\n",
            "    {\n",
            "      \"이름\": \"포도\",\n",
            "      \"수\": 1,\n",
            "      \"출처\": \"00뉴스\"\n",
            "    },\n",
            "    {\n",
            "      \"이름\": \"수박\",\n",
            "      \"수\": 1,\n",
            "      \"출처\": \"00뉴스\"\n",
            "    },\n",
            "    {\n",
            "      \"이름\": \"참외\",\n",
            "      \"수\": 1,\n",
            "      \"출처\": \"00뉴스\"\n",
            "    },\n",
            "    {\n",
            "      \"이름\": \"딸기\",\n",
            "      \"수\": 1,\n",
            "      \"출처\": \"00뉴스\"\n",
            "    },\n",
            "    {\n",
            "      \"이름\": \"감\",\n",
            "      \"수\": 1,\n",
            "      \"출처\": \"00뉴스\"\n",
            "    },\n",
            "    {\n",
            "      \"이름\": \"복숭아\",\n",
            "      \"수\": \n"
          ]
        }
      ],
      "source": [
        "print(response.output_text)"
      ]
    },
    {
      "cell_type": "markdown",
      "metadata": {
        "id": "Wvr78qMD4NLE"
      },
      "source": [
        "### 코드를 통한 JSON 스키마 설정 (베타)"
      ]
    },
    {
      "cell_type": "code",
      "execution_count": 35,
      "metadata": {
        "id": "apSgmJ0tdQep"
      },
      "outputs": [],
      "source": [
        "# https://platform.openai.com/docs/guides/structured-outputs?api-mode=chat\n",
        "from pydantic import BaseModel"
      ]
    },
    {
      "cell_type": "code",
      "execution_count": 36,
      "metadata": {
        "id": "6U3eAUobdU2v"
      },
      "outputs": [],
      "source": [
        "# 공식문서 스키마 붙여넣기\n",
        "class CalendarEvent(BaseModel):\n",
        "    name: str\n",
        "    date: str\n",
        "    participants: list[str]"
      ]
    },
    {
      "cell_type": "code",
      "execution_count": 37,
      "metadata": {
        "id": "fUg7AshVdQWO"
      },
      "outputs": [],
      "source": [
        "# API 코드 붙여넣기\n",
        "completion = client.beta.chat.completions.parse(\n",
        "    model=\"gpt-4o-2024-08-06\",\n",
        "    messages=[\n",
        "        {\"role\": \"system\", \"content\": \"Extract the event information.\"},\n",
        "        {\"role\": \"user\", \"content\": \"Alice and Bob are going to a science fair on Friday.\"},\n",
        "    ],\n",
        "    response_format=CalendarEvent,\n",
        ")"
      ]
    },
    {
      "cell_type": "code",
      "execution_count": 38,
      "metadata": {
        "id": "Hv6eG6gd5S5N"
      },
      "outputs": [
        {
          "name": "stdout",
          "output_type": "stream",
          "text": [
            "{\"name\":\"Science Fair\",\"date\":\"Friday\",\"participants\":[\"Alice\",\"Bob\"]}\n"
          ]
        }
      ],
      "source": [
        "# 응답 출력\n",
        "print(completion.choices[0].message.content)"
      ]
    },
    {
      "cell_type": "code",
      "execution_count": 39,
      "metadata": {
        "id": "I9BuW1_V3K7M"
      },
      "outputs": [],
      "source": [
        "# 나만의 과일 정보 스키마 작성\n",
        "class FruitInfoJsonFormat(BaseModel):\n",
        "    fruits : list[str]\n",
        "    num_of_fruits: int\n",
        "    ref : str"
      ]
    },
    {
      "cell_type": "code",
      "execution_count": 44,
      "metadata": {
        "id": "TcGCz3K83DGy"
      },
      "outputs": [],
      "source": [
        "# 사전에 정의한 스키마(과일, 과일 개수, 출처를 이용한 프롬프팅)을 이용하여 구조화된 JSON 만들기\n",
        "response = client.beta.chat.completions.parse(\n",
        "    model=\"gpt-4o-2024-08-06\",\n",
        "    messages=[\n",
        "        {\"role\": \"system\", \"content\": \"당신은 구조화 되지 않은 data를 Json 형식으로 변환하는 AI입니다. 사용자가 과일에 대한 설명을 제공하면, 과일 이름과 과일 수, 출처를 JSON 형식으로 추출하세요.\"},\n",
        "        {\"role\": \"user\", \"content\": user_prompt},\n",
        "    ],\n",
        "    response_format=FruitInfoJsonFormat,\n",
        ")"
      ]
    },
    {
      "cell_type": "code",
      "execution_count": 45,
      "metadata": {
        "id": "7Hd_33ec5bNd"
      },
      "outputs": [
        {
          "name": "stdout",
          "output_type": "stream",
          "text": [
            "{\"fruits\":[\"사과\",\"배\",\"귤\",\"포도\",\"수박\",\"참외\",\"딸기\",\"감\",\"복숭아\"],\"num_of_fruits\":9,\"ref\":\"00뉴스\"}\n"
          ]
        }
      ],
      "source": [
        "# 응답 출력\n",
        "print(response.choices[0].message.content)"
      ]
    },
    {
      "cell_type": "code",
      "execution_count": 46,
      "metadata": {
        "id": "p-n60Xw85cWV"
      },
      "outputs": [
        {
          "name": "stdout",
          "output_type": "stream",
          "text": [
            "<class 'str'>\n"
          ]
        }
      ],
      "source": [
        "print(type(response.choices[0].message.content))"
      ]
    },
    {
      "cell_type": "code",
      "execution_count": 47,
      "metadata": {
        "id": "V_A_Qwk45dhF"
      },
      "outputs": [
        {
          "name": "stdout",
          "output_type": "stream",
          "text": [
            "{\n",
            "    \"fruits\": [\n",
            "        \"사과\",\n",
            "        \"배\",\n",
            "        \"귤\",\n",
            "        \"포도\",\n",
            "        \"수박\",\n",
            "        \"참외\",\n",
            "        \"딸기\",\n",
            "        \"감\",\n",
            "        \"복숭아\"\n",
            "    ],\n",
            "    \"num_of_fruits\": 9,\n",
            "    \"ref\": \"00뉴스\"\n",
            "}\n"
          ]
        }
      ],
      "source": [
        "import json\n",
        "\n",
        "# GPT의 응답을 JSON으로 변환\n",
        "# str -> dict\n",
        "parsed_data = json.loads(response.choices[0].message.content)\n",
        "\n",
        "# 변환된 JSON 출력\n",
        "# dict -> str\n",
        "json_data = json.dumps(parsed_data, indent=4, ensure_ascii=False)\n",
        "print(json_data)"
      ]
    },
    {
      "cell_type": "markdown",
      "metadata": {},
      "source": [
        "# OpenAI TTS (시연)"
      ]
    },
    {
      "cell_type": "code",
      "execution_count": 48,
      "metadata": {},
      "outputs": [],
      "source": [
        "client = OpenAI(api_key=OPENAI_API_KEY)\n",
        "speech_file_path = \"speech3.mp3\"\n",
        "\n",
        "with client.audio.speech.with_streaming_response.create(\n",
        "    model=\"gpt-4o-mini-tts\",\n",
        "    voice=\"alloy\",\n",
        "    input=\"오늘 소개할 책은 대한민국 최초 노벨상 수상자 한강 작가의 채식주의자입니다!\",\n",
        "    instructions=\"Speak in a very negative tone\",\n",
        ") as response:\n",
        "    response.stream_to_file(speech_file_path)"
      ]
    }
  ],
  "metadata": {
    "colab": {
      "provenance": [],
      "toc_visible": true
    },
    "kernelspec": {
      "display_name": "venv",
      "language": "python",
      "name": "python3"
    },
    "language_info": {
      "codemirror_mode": {
        "name": "ipython",
        "version": 3
      },
      "file_extension": ".py",
      "mimetype": "text/x-python",
      "name": "python",
      "nbconvert_exporter": "python",
      "pygments_lexer": "ipython3",
      "version": "3.9.13"
    }
  },
  "nbformat": 4,
  "nbformat_minor": 0
}
